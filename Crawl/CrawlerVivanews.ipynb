{
 "cells": [
  {
   "cell_type": "code",
   "execution_count": null,
   "metadata": {},
   "outputs": [],
   "source": [
    "import re\n",
    "import mechanize\n",
    "import os\n",
    "import sys\n",
    "import urllib.request"
   ]
  },
  {
   "cell_type": "code",
   "execution_count": null,
   "metadata": {},
   "outputs": [],
   "source": [
    "br = mechanize.Browser()\n",
    "linklist=[]\n",
    "kamus={}\n",
    "values = 1\n",
    "count = 0\n",
    "\n",
    "day = 1\n",
    "dayend = 31\n",
    "mounth = 6\n",
    "mounthend = 8\n",
    "year = 2019\n",
    "tahun = year\n",
    "bulan = mounth\n",
    "tanggal = day\n",
    "halstart = 1\n",
    "halend = 4"
   ]
  },
  {
   "cell_type": "code",
   "execution_count": null,
   "metadata": {},
   "outputs": [],
   "source": [
    "print(\"Start to execute...\")\n",
    "for tanggal in range(tanggal, dayend):\n",
    "    print(\"Crawling data on:\", tahun,\"/\", bulan,\"/\", tanggal)\n",
    "    i=1\n",
    "    for i in range(mounth, mounthend):\n",
    "        #print(\"Include page\", i)\n",
    "        if tanggal <10:\n",
    "            if bulan <10:\n",
    "                r = br.open(\"https://www.viva.co.id/indeks/berita/all/\"+ str(tahun)+ \"/0\" + str(bulan)+ \"/0\"+ str(tanggal))\n",
    "            else:\n",
    "                r = br.open(\"https://www.viva.co.id/indeks/berita/all/\"+ str(tahun)+ \"/\" + str(bulan)+ \"/0\"+ str(tanggal))\n",
    "        else:\n",
    "            if bulan <10:\n",
    "                r = br.open(\"https://www.viva.co.id/indeks/berita/all/\"+ str(tahun)+ \"/0\" + str(bulan)+ \"/\"+ str(tanggal))\n",
    "            else:\n",
    "                r = br.open(\"https://www.viva.co.id/indeks/berita/all/\"+ str(tahun)+ \"/\" + str(bulan)+ \"/\"+ str(tanggal))\n",
    "\n",
    "        for link in br.links():\n",
    "            linklist.append(link.url)\n",
    "\n",
    "        for links in linklist:\n",
    "            if links not in kamus and re.search(r\"/berita/\",links):\n",
    "                kamus[links]=values\n",
    "                count+=1\n",
    "                #print(kamus[links])\n",
    "            else:\n",
    "                pass\n",
    "print(\"Executed successfully\")"
   ]
  },
  {
   "cell_type": "code",
   "execution_count": null,
   "metadata": {
    "tags": [
     "outputPrepend"
    ]
   },
   "outputs": [],
   "source": [
    "print(kamus)"
   ]
  },
  {
   "cell_type": "code",
   "execution_count": null,
   "metadata": {},
   "outputs": [],
   "source": [
    "f = open(\"dataVivaNews3.txt\",\"w\")\n",
    "for x in kamus:\n",
    "    f.write(x + \"\\n\")\n",
    "f.close()"
   ]
  },
  {
   "cell_type": "code",
   "execution_count": null,
   "metadata": {
    "tags": [
     "outputPrepend"
    ]
   },
   "outputs": [],
   "source": [
    "f = open(\"dataVivaNews3.txt\",\"r\")\n",
    "count = 2287\n",
    "\n",
    "for link in f:\n",
    "    print(link)\n",
    "    urllib.request.urlretrieve(link, \"Vivanews-\" + str(count) + \".html\")\n",
    "    count+=1\n",
    "    print(\"\\nDownloading file: \", count)\n",
    "print(\"Finish : \", count)\n",
    "f.close()"
   ]
  },
  {
   "cell_type": "code",
   "execution_count": null,
   "metadata": {},
   "outputs": [],
   "source": []
  }
 ],
 "metadata": {
  "kernelspec": {
   "display_name": "Python 3",
   "language": "python",
   "name": "python3"
  },
  "language_info": {
   "codemirror_mode": {
    "name": "ipython",
    "version": 3
   },
   "file_extension": ".py",
   "mimetype": "text/x-python",
   "name": "python",
   "nbconvert_exporter": "python",
   "pygments_lexer": "ipython3",
   "version": "3.8.3-final"
  }
 },
 "nbformat": 4,
 "nbformat_minor": 4
}